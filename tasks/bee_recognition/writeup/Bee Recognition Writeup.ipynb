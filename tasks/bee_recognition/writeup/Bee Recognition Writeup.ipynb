{
 "cells": [
  {
   "cell_type": "markdown",
   "metadata": {},
   "source": [
    "# Bee Recognition Writeup\n",
    "### Based on Gabriel Preda's notebook \"Honey Bee Subspecies Classification\"\n",
    "https://www.kaggle.com/gpreda/honey-bee-subspecies-classification"
   ]
  },
  {
   "cell_type": "code",
   "execution_count": 144,
   "metadata": {},
   "outputs": [],
   "source": [
    "import pandas as pd\n",
    "import numpy as np\n",
    "import sys\n",
    "import os\n",
    "import random"
   ]
  },
  {
   "cell_type": "code",
   "execution_count": 145,
   "metadata": {
    "_kg_hide-input": true,
    "_uuid": "af08260bfbe163f9132f39d09627899bbc4c1dae"
   },
   "outputs": [],
   "source": [
    "import imageio\n",
    "import skimage\n",
    "import skimage.io\n",
    "import skimage.transform\n",
    "import scipy\n",
    "from sklearn.model_selection import train_test_split\n",
    "from sklearn import metrics"
   ]
  },
  {
   "cell_type": "code",
   "execution_count": 146,
   "metadata": {},
   "outputs": [],
   "source": [
    "from keras import optimizers\n",
    "from keras.models import Sequential\n",
    "from keras.layers import Dense, Conv2D, Flatten, MaxPool2D, Dropout, BatchNormalization,LeakyReLU\n",
    "from keras.preprocessing.image import ImageDataGenerator\n",
    "from keras.callbacks import ModelCheckpoint, Callback, EarlyStopping, ReduceLROnPlateau, LearningRateScheduler\n",
    "from keras.utils import to_categorical"
   ]
  },
  {
   "cell_type": "code",
   "execution_count": 147,
   "metadata": {
    "_kg_hide-input": true,
    "_uuid": "a2082fb1e56fc6cfc91d40820b905267bc1ca468"
   },
   "outputs": [],
   "source": [
    "IMAGE_PATH = 'bee_imgs/'\n",
    "IMAGE_WIDTH = 100\n",
    "IMAGE_HEIGHT = 100\n",
    "IMAGE_CHANNELS = 3\n",
    "RANDOM_STATE = 2018\n",
    "TEST_SIZE = 0.1\n",
    "VAL_SIZE = 0.2\n",
    "CONV_2D_DIM_1 = 16\n",
    "CONV_2D_DIM_2 = 16\n",
    "CONV_2D_DIM_3 = 32\n",
    "CONV_2D_DIM_4 = 64\n",
    "MAX_POOL_DIM = 2\n",
    "KERNEL_SIZE = 3\n",
    "BATCH_SIZE = 32\n",
    "NO_EPOCHS_1 = 5\n",
    "NO_EPOCHS_2 = 10\n",
    "NO_EPOCHS_3 = 50\n",
    "PATIENCE = 5\n",
    "VERBOSE = 1\n",
    "CLASSES_CHANGE = {1:2, 2:1}"
   ]
  },
  {
   "cell_type": "code",
   "execution_count": 148,
   "metadata": {},
   "outputs": [],
   "source": [
    "honey_bee_df = pd.read_csv('bee_data.csv')\n",
    "lst = ['Italian honey bee', 'Russian honey bee', 'Carniolan honey bee']\n",
    "honey_bee_df = honey_bee_df[honey_bee_df.subspecies.isin(lst)]\n",
    "honey_bee_df = honey_bee_df.drop(['date', 'time', 'location', 'zip code', 'health', 'pollen_carrying', 'caste'], axis=1)"
   ]
  },
  {
   "cell_type": "code",
   "execution_count": 149,
   "metadata": {
    "_kg_hide-input": true,
    "_uuid": "352d452d5212d8c9eff074f11820b03a0d44387b"
   },
   "outputs": [],
   "source": [
    "train_df, test_df = train_test_split(honey_bee_df, test_size=TEST_SIZE, random_state=RANDOM_STATE)\n",
    "train_df, val_df = train_test_split(train_df, test_size=VAL_SIZE, random_state=RANDOM_STATE)"
   ]
  },
  {
   "cell_type": "code",
   "execution_count": 150,
   "metadata": {
    "_kg_hide-input": true,
    "_uuid": "f80b4e20e98ce5bf328fba3a22457c4a994de06b"
   },
   "outputs": [],
   "source": [
    "def read_image(file_name, train=True):\n",
    "    image = skimage.io.imread(IMAGE_PATH + file_name if train else file_name)\n",
    "    image = skimage.transform.resize(image, (IMAGE_WIDTH, IMAGE_HEIGHT), mode='reflect')\n",
    "    return image[:,:,:IMAGE_CHANNELS]"
   ]
  },
  {
   "cell_type": "code",
   "execution_count": 151,
   "metadata": {
    "_kg_hide-input": true,
    "_uuid": "0f7a2146ca93aef9367ecd64300980005d89911b"
   },
   "outputs": [],
   "source": [
    "def categories_encoder(dataset, var='subspecies'):\n",
    "    X = np.stack(dataset['file'].apply(read_image))\n",
    "    y = pd.get_dummies(dataset[var], drop_first=False)\n",
    "    return X, y"
   ]
  },
  {
   "cell_type": "code",
   "execution_count": 152,
   "metadata": {
    "_kg_hide-input": true,
    "_uuid": "70acefcd6dc5d494b1c7db6dc90bae5f8c856d94"
   },
   "outputs": [],
   "source": [
    "X_train, y_train = categories_encoder(train_df)\n",
    "X_val, y_val = categories_encoder(val_df)\n",
    "X_test, y_test = categories_encoder(test_df)"
   ]
  },
  {
   "cell_type": "code",
   "execution_count": 154,
   "metadata": {
    "_kg_hide-input": true,
    "_uuid": "bd7147baf9c45217988df92cf631202684fb3609"
   },
   "outputs": [],
   "source": [
    "def create_model():\n",
    "    model = Sequential()\n",
    "    model.add(Conv2D(CONV_2D_DIM_1, kernel_size=KERNEL_SIZE, input_shape=(IMAGE_WIDTH, IMAGE_HEIGHT,IMAGE_CHANNELS), activation='relu', padding='same'))\n",
    "    model.add(MaxPool2D(MAX_POOL_DIM))\n",
    "    model.add(Conv2D(CONV_2D_DIM_2, kernel_size=KERNEL_SIZE, activation='relu', padding='same'))\n",
    "    model.add(Flatten())\n",
    "    model.add(Dense(y_train.columns.size, activation='softmax'))\n",
    "    model.compile(optimizer='adam', loss='categorical_crossentropy', metrics=['accuracy'])\n",
    "    \n",
    "    return model"
   ]
  },
  {
   "cell_type": "code",
   "execution_count": 155,
   "metadata": {
    "_kg_hide-input": true,
    "_uuid": "d2e402a92832cfd95cb3668431482d40854bb93a"
   },
   "outputs": [],
   "source": [
    "image_generator = ImageDataGenerator(\n",
    "        featurewise_center=False,\n",
    "        samplewise_center=False,\n",
    "        featurewise_std_normalization=False,\n",
    "        samplewise_std_normalization=False,\n",
    "        zca_whitening=False,\n",
    "        rotation_range=180,\n",
    "        zoom_range = 0.1, \n",
    "        width_shift_range=0.1,\n",
    "        height_shift_range=0.1, \n",
    "        horizontal_flip=True,\n",
    "        vertical_flip=True)\n",
    "\n",
    "image_generator.fit(X_train)"
   ]
  },
  {
   "cell_type": "code",
   "execution_count": 156,
   "metadata": {
    "_kg_hide-input": true,
    "_uuid": "19ac76b9eed3495049a0546402368a529c5db2cb"
   },
   "outputs": [
    {
     "name": "stdout",
     "output_type": "stream",
     "text": [
      "Epoch 1/5\n",
      "91/90 [==============================] - 17s 192ms/step - loss: 0.2584 - acc: 0.9100 - val_loss: 0.1344 - val_acc: 0.9794\n",
      "Epoch 2/5\n",
      "91/90 [==============================] - 19s 214ms/step - loss: 0.1033 - acc: 0.9749 - val_loss: 0.0711 - val_acc: 0.9890\n",
      "Epoch 3/5\n",
      "91/90 [==============================] - 19s 203ms/step - loss: 0.0529 - acc: 0.9859 - val_loss: 0.0377 - val_acc: 0.9890\n",
      "Epoch 4/5\n",
      "91/90 [==============================] - 20s 219ms/step - loss: 0.0403 - acc: 0.9894 - val_loss: 0.0225 - val_acc: 0.9931\n",
      "Epoch 5/5\n",
      "91/90 [==============================] - 20s 218ms/step - loss: 0.0298 - acc: 0.9918 - val_loss: 0.0418 - val_acc: 0.9890\n"
     ]
    }
   ],
   "source": [
    "model = create_model()\n",
    "train_model1  = model.fit_generator(image_generator.flow(X_train, y_train, batch_size=BATCH_SIZE),\n",
    "                        epochs=NO_EPOCHS_1,\n",
    "                        validation_data=[X_val, y_val],\n",
    "                        steps_per_epoch=len(X_train) / BATCH_SIZE)"
   ]
  },
  {
   "cell_type": "code",
   "execution_count": 166,
   "metadata": {
    "_kg_hide-input": true,
    "_uuid": "1ad166de21bdd7e097fb73e64ec564b61358a6c1"
   },
   "outputs": [],
   "source": [
    "from requests import get, post, Session\n",
    "import json\n",
    "from bs4 import BeautifulSoup\n",
    "from PIL import Image\n",
    "from io import BytesIO\n",
    "\n",
    "lst = []\n",
    "session = Session()\n",
    "\n",
    "\n",
    "page = session.get('http://127.0.0.1:5000/').text\n",
    "soup = BeautifulSoup(page, 'html.parser')\n",
    "js = soup.find_all('script')[1]\n",
    "bee_ids = eval(list(map(lambda x: x.strip(), str(js).split('\\n')))[1].split(' = ')[1][:-1])  "
   ]
  },
  {
   "cell_type": "code",
   "execution_count": 167,
   "metadata": {},
   "outputs": [],
   "source": [
    "classes = {1:2, 2:1, 0:0}\n",
    "\n",
    "for bid in bee_ids:\n",
    "    response = get(f'http://127.0.0.1:5000/static/img/{bid}.png')\n",
    "    image = read_image(BytesIO(response.content), False)\n",
    "    image = np.expand_dims(image, axis=0)\n",
    "    \n",
    "    answer = model.predict_classes(image)\n",
    "    lst.append(classes[int(answer[0])])\n",
    "    \n",
    "      "
   ]
  },
  {
   "cell_type": "code",
   "execution_count": 168,
   "metadata": {},
   "outputs": [
    {
     "name": "stdout",
     "output_type": "stream",
     "text": [
      "{\"accuracy\":\"100.0%\",\"flag\":\"paseca{u1tr4_be3_recOgn1T1ooon_m45ter}\",\"success\":true}\n",
      "\n"
     ]
    }
   ],
   "source": [
    "ans = session.post('http://127.0.0.1:5000/', data = {'answers': str(lst)})\n",
    "print(ans.text)  "
   ]
  },
  {
   "cell_type": "code",
   "execution_count": null,
   "metadata": {},
   "outputs": [],
   "source": []
  }
 ],
 "metadata": {
  "kernelspec": {
   "display_name": "Python 3",
   "language": "python",
   "name": "python3"
  },
  "language_info": {
   "codemirror_mode": {
    "name": "ipython",
    "version": 3
   },
   "file_extension": ".py",
   "mimetype": "text/x-python",
   "name": "python",
   "nbconvert_exporter": "python",
   "pygments_lexer": "ipython3",
   "version": "3.7.3"
  }
 },
 "nbformat": 4,
 "nbformat_minor": 1
}
